{
 "cells": [
  {
   "cell_type": "markdown",
   "metadata": {},
   "source": [
    "## Creating a DNN for the MNIST Dataset"
   ]
  },
  {
   "cell_type": "markdown",
   "metadata": {},
   "source": [
    "### 1. Import Data"
   ]
  },
  {
   "cell_type": "code",
   "execution_count": 13,
   "metadata": {},
   "outputs": [],
   "source": [
    "import tensorflow.keras.datasets.mnist as mnist\n",
    "import tensorflow as tf\n",
    "\n",
    "(x_train, y_train), (x_test, y_test) = mnist.load_data()\n",
    "x_train = x_train / 255.0   # rescale the images to be between 0 and 1\n",
    "x_test = x_test / 255.0     # rescale the images to be between 0 and 1"
   ]
  },
  {
   "cell_type": "markdown",
   "metadata": {},
   "source": [
    "### 2. Plot the Data samples"
   ]
  },
  {
   "cell_type": "code",
   "execution_count": 14,
   "metadata": {},
   "outputs": [
    {
     "data": {
      "image/png": "[encoded data removed]",
      "text/plain": [
       "<Figure size 1008x432 with 10 Axes>"
      ]
     },
     "metadata": {},
     "output_type": "display_data"
    }
   ],
   "source": [
    "%matplotlib inline\n",
    "import matplotlib.pyplot as plt\n",
    "plt.figure(figsize=(14,6))\n",
    "for i in range(10):\n",
    "    plt.subplot(2, 5, i+1)\n",
    "    plt.imshow(x_train[i])\n",
    "    plt.xticks([])\n",
    "    plt.yticks([])\n",
    "    plt.title('%d' % y_train[i])\n",
    "plt.show()"
   ]
  },
  {
   "cell_type": "code",
   "execution_count": 15,
   "metadata": {},
   "outputs": [
    {
     "name": "stdout",
     "output_type": "stream",
     "text": [
      "original target: 5\n",
      "  vector target: [0. 0. 0. 0. 0. 1. 0. 0. 0. 0.]\n"
     ]
    }
   ],
   "source": [
    "import numpy as np\n",
    "\n",
    "y_train_target = np.eye(10)[y_train]\n",
    "y_test_target = np.eye(10)[y_test]\n",
    "print('original target:', y_train[0])\n",
    "print('  vector target:', y_train_target[0])"
   ]
  },
  {
   "cell_type": "markdown",
   "metadata": {},
   "source": [
    "### 3. Train Model"
   ]
  },
  {
   "cell_type": "code",
   "execution_count": 16,
   "metadata": {},
   "outputs": [
    {
     "name": "stdout",
     "output_type": "stream",
     "text": [
      "Epoch 1/10\n",
      "1875/1875 [==============================] - 2s 747us/step - loss: 0.4951 - accuracy: 0.8626 - val_loss: 0.1716 - val_accuracy: 0.9496\n",
      "Epoch 2/10\n",
      "1875/1875 [==============================] - 1s 715us/step - loss: 0.1544 - accuracy: 0.9554 - val_loss: 0.1197 - val_accuracy: 0.9651\n",
      "Epoch 3/10\n",
      "1875/1875 [==============================] - 1s 683us/step - loss: 0.1061 - accuracy: 0.9680 - val_loss: 0.1028 - val_accuracy: 0.9689\n",
      "Epoch 4/10\n",
      "1875/1875 [==============================] - 1s 690us/step - loss: 0.0784 - accuracy: 0.9770 - val_loss: 0.0929 - val_accuracy: 0.9707\n",
      "Epoch 5/10\n",
      "1875/1875 [==============================] - 1s 690us/step - loss: 0.0688 - accuracy: 0.9794 - val_loss: 0.0867 - val_accuracy: 0.9743\n",
      "Epoch 6/10\n",
      "1875/1875 [==============================] - 1s 788us/step - loss: 0.0560 - accuracy: 0.9827 - val_loss: 0.0926 - val_accuracy: 0.9714\n",
      "Epoch 7/10\n",
      "1875/1875 [==============================] - 1s 694us/step - loss: 0.0459 - accuracy: 0.9859 - val_loss: 0.0800 - val_accuracy: 0.9756\n",
      "Epoch 8/10\n",
      "1875/1875 [==============================] - 1s 702us/step - loss: 0.0383 - accuracy: 0.9884 - val_loss: 0.0834 - val_accuracy: 0.9735\n",
      "Epoch 9/10\n",
      "1875/1875 [==============================] - 1s 777us/step - loss: 0.0333 - accuracy: 0.9902 - val_loss: 0.0787 - val_accuracy: 0.9756\n",
      "Epoch 10/10\n",
      "1875/1875 [==============================] - 1s 728us/step - loss: 0.0287 - accuracy: 0.9914 - val_loss: 0.0935 - val_accuracy: 0.9731\n"
     ]
    },
    {
     "data": {
      "text/plain": [
       "<tensorflow.python.keras.callbacks.History at 0x1ff219ec610>"
      ]
     },
     "execution_count": 16,
     "metadata": {},
     "output_type": "execute_result"
    }
   ],
   "source": [
    "model = tf.keras.models.Sequential([\n",
    "      tf.keras.layers.Flatten(input_shape=(28, 28)),   # input is a 28x28 image\n",
    "      tf.keras.layers.Dense(64, activation='relu'),    # 64 neurons in the middle \"hidden\" layer\n",
    "      tf.keras.layers.Dense(10, activation='softmax')  # 10 outputs (one for each category)\n",
    "    ])\n",
    "\n",
    "model.compile(optimizer='adam',\n",
    "              loss='sparse_categorical_crossentropy',\n",
    "              metrics=['accuracy']  # in addition to the loss, also compute the categorization accuracy\n",
    "             )\n",
    "\n",
    "model.fit(x_train, y_train, epochs=10, validation_data=(x_test, y_test))   # note that we now use y_train, not y_train_target"
   ]
  },
  {
   "cell_type": "markdown",
   "metadata": {},
   "source": [
    "### 4. Check classification"
   ]
  },
  {
   "cell_type": "code",
   "execution_count": 17,
   "metadata": {},
   "outputs": [
    {
     "data": {
      "image/png": "[encoded data removed]",
      "text/plain": [
       "<Figure size 432x288 with 1 Axes>"
      ]
     },
     "metadata": {
      "needs_background": "light"
     },
     "output_type": "display_data"
    },
    {
     "name": "stdout",
     "output_type": "stream",
     "text": [
      "actual output from network: [1.11490221e-08 3.61086866e-13 5.10754944e-07 1.19417045e-05\n",
      " 2.03533394e-14 1.29973310e-09 5.18593978e-18 9.99987006e-01\n",
      " 9.84932313e-09 4.43846432e-07]\n",
      "category (the largest output): 7\n"
     ]
    }
   ],
   "source": [
    "output = model.predict(x_test)\n",
    "category = np.argmax(output, axis=1)\n",
    "\n",
    "plt.imshow(x_test[0])\n",
    "plt.show()\n",
    "print('actual output from network:', output[0])\n",
    "print('category (the largest output):', category[0])\n",
    "\n",
    "# Note the 7th index of the list is the largest value so it is classifies the point as 7"
   ]
  },
  {
   "cell_type": "markdown",
   "metadata": {},
   "source": [
    "### 5. Evaluate Model"
   ]
  },
  {
   "cell_type": "code",
   "execution_count": 29,
   "metadata": {},
   "outputs": [
    {
     "name": "stdout",
     "output_type": "stream",
     "text": [
      "Evaluate on test data\n",
      "79/79 [==============================] - 0s 816us/step - loss: 0.0935 - accuracy: 0.9731\n",
      "test loss, test acc: [0.09346762299537659, 0.9731000065803528]\n"
     ]
    }
   ],
   "source": [
    "print(\"Evaluate on test data\")\n",
    "results = model.evaluate(x_test, y_test, batch_size=128)\n",
    "print(\"test loss, test acc:\", results)"
   ]
  }
 ],
 "metadata": {
  "kernelspec": {
   "display_name": "Python 3",
   "language": "python",
   "name": "python3"
  },
  "language_info": {
   "codemirror_mode": {
    "name": "ipython",
    "version": 3
   },
   "file_extension": ".py",
   "mimetype": "text/x-python",
   "name": "python",
   "nbconvert_exporter": "python",
   "pygments_lexer": "ipython3",
   "version": "3.8.3"
  }
 },
 "nbformat": 4,
 "nbformat_minor": 4
}
